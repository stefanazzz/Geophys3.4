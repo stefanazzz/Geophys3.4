{
 "cells": [
  {
   "cell_type": "markdown",
   "id": "48196a18-9436-4c36-aacd-6195ce495df9",
   "metadata": {},
   "source": [
    "# Online testbench for geophysical imaging codes\n",
    "### Includes *INTERACTIVE GRAPHICS* for picking and model design\n",
    "Stefan Nielsen, Durham University, May 2024\n",
    "\n",
    "### Uses\n",
    "   - **pygimli** (https://www.pygimli.org/)\n",
    "   - obspy (this is useful for i/o of seismic datafiles)\n",
    "   - pandas (this is useful for i/o of spreadsheet data)\n",
    "   - shapely (this is useful for interactive plotting/picking) \n",
    "   - etc. etc.\n",
    "     \n",
    "### Does\n",
    "  - Interactive picking, AGC, reduced velocity on seismic shot gather\n",
    "  - Reads dat and res file formats from TIGRE (Electrical Resistivity Tomography equipment)\n",
    "  - Reads DAT and dat from smartseis and from geode seismic acquisision equipment\n",
    "  - Inversion of res and seis data with pygimli modelling and inversion software\n",
    "  - Interactive design of 2D models with polygons\n",
    "  - Modelling of gravity data using pygimli\n",
    "    \n",
    "### aims:\n",
    "- workable on jupyterlab / mybinder\n",
    "- create sharable online version (and backup for Durham Geophysics class)"
   ]
  },
  {
   "cell_type": "markdown",
   "id": "27c193bb-b980-4f44-b7eb-683075f2b350",
   "metadata": {
    "tags": []
   },
   "source": [
    "## Try online:\n",
    "- Gravity:\n",
    "    - [2D model design and anomaly simulation](./Gravity/ModelMeshGravity_2024.ipynb) \n",
    "- Seismic:\n",
    "    - [Seismic arrival time picking widget](./Seismic/Picking_3_5.ipynb)\n",
    "    - [2D processing of traveltimes and inversion](./Seismic/Seismic_Inversion_3_5.ipynb)\n",
    "- Electrical Resistivity:\n",
    "    - [1D Vertical Electrical Sounding](./Resistivity/1D/schlum_example.ipynb)\n",
    "    - [2D Electrical Resistivity Tomography](./Resistivity/2D/ERT_dat_res_3_5.ipynb)"
   ]
  },
  {
   "cell_type": "markdown",
   "id": "2692bd9f",
   "metadata": {},
   "source": [
    "# Gravity details:\n",
    "## Build 2D model and estimate gravity anomaly\n",
    "- Build model by either \n",
    "  - use of interactive graphic\n",
    "  - or by defining arrays of (x,y) polygon vertexes\n",
    "- Compute gravity anomaly using **pygimli**\n",
    "- Compare to field data\n",
    "### Main code is\n",
    "  - ModeMeshGravity_2024.ipynb\n",
    "### Requires\n",
    "- companion file InitMdodelMechGravity_2024.ipynb\n",
    "- example files data_example2.csv, m1.tmp, m2.tmp, m3.tmp\n",
    "- modules/environment listed in root folder\n",
    "### Bouguer or direct\n",
    "- Use topography to direct model data or reference horizon for Bouguer corrected data\n"
   ]
  },
  {
   "cell_type": "markdown",
   "id": "d61ec991",
   "metadata": {},
   "source": [
    "# Seismic details:\n",
    "## I. Picking of first arrivals: \n",
    "- *Picking_3_5.ipynb*\n",
    "- tested with input files from *Geode* and *Smartseis* shot gathers\n",
    "\n",
    "## II. 2D inversion of seismic refraction data using pygimli: \n",
    "- *Seismic_Inversion_3_5.ipynb*\n",
    "\n",
    "\n",
    "## Use of the code:\n",
    "- upload the dat or DAT files\n",
    "  (an example data set is already in 'ExampleData' with the picking done).\n",
    "- run Picking_3.x.ipynb\n",
    "    - first modify interactive widgets if needed to set:\n",
    "        - file name, path\n",
    "        - geophone spacing \n",
    "        - if a geophone has been moved and where for this shot\n",
    "        etc\n",
    "    - second, pick with right mouse click\n",
    "    - third, run cell that saves results in new file\n",
    "    - repeat for each shot gather file\n",
    "- run Seismic_Inversion_3.4x.ipynb\n",
    "    - first modify text in interactive widgets if needed to set:\n",
    "        - path to files\n",
    "        - filenames\n",
    "        - avg error\n",
    "    - then run the cells to perform inversion and plotting\n",
    "    - modify the parameters of inversion if needed\n",
    "\n",
    "## Requirements:\n",
    "- python3 environment with **pygimli**, pandas, ipywidgets (in addition to several python installed by default, numpy, matplotlib, etc)\n",
    "- see README in root folder for complete environment instructions \n",
    "- main code files and companion files:\n",
    "    - Picking_3.4.ipynb\n",
    "    - Seismic_inversion_3.4.ipynb\n",
    "    - dict.yml (initial dictionary file with default parameters for the widgets. This is automatically updted when valueds are changed)\n",
    "    - Init_Picking_3.4.py (various functions defined that are used in the Picking_3 code)\n",
    "    - Init_Seismic_Inversion_3.4.py (various functions defined that are used in the Picking_3 code)\n",
    "    - __init__.py\n"
   ]
  },
  {
   "cell_type": "markdown",
   "id": "7a7bfda8",
   "metadata": {},
   "source": [
    "# 2D ERT (Electric Resistivity Tomography)\n",
    "- reads .dat or .res files from campus TIGRE array\n",
    "- option to add topographic elevation of electrodes\n",
    "- perform inversion using **pygimli**\n",
    "## Main code is ERT2D_dat_res_3_5.ipynb\n",
    "## Requires:\n",
    "- Init_ERT2D_3_5.py\n",
    "- <pre>__init__.py</pre>\n",
    "- Test using example input file 'FlassVale01.dat'\n"
   ]
  },
  {
   "cell_type": "markdown",
   "id": "8ec34878",
   "metadata": {},
   "source": [
    "# 1D VES (Vertical Electric Sounding)\n",
    "- stand alone code \"schlum_example.ipynb\" based on pygimli \n",
    "- general electrode geometry ABMN (P1 P2 C1 C2), only requirement is AM <-> BN symmetry\n",
    "- Schlumberger, Wenner, any L/l \n",
    " \n",
    "How to produce a soil resistivity model:\n",
    "\n",
    "1) Write data in file\n",
    "\n",
    "put all your data in a csv file (save from excel microsoft format csv and Unicode UTF-8.\n",
    "The format of the file shold be comma separated values with 6 columns like this:\n",
    "\n",
    "MN/2 (m), AB/2 (m), R1 (ohms), R2 (ohms), R3 (ohms), R4 (ohms)\n",
    "0.5,      1,        298,       298,       298,       298\n",
    "0.5,      1.25,     195.3,     195.2,     195,       195.2\n",
    "etc... etc...\n",
    "\n",
    "an example file of input is provided (input_example.csv).\n",
    "\n",
    "3) Upload files on the server:\n",
    "\n",
    " - the csv data file that you have compiled\n",
    "\n",
    "4) Run the notebook\n",
    "\n",
    " - run the notebook cells sequentially from top to bottom\n",
    " - make sure you replace 'input_example.csv' by the name of your own data file \n",
    " - make a hypothesis on the number of layers. Start with 3 then add more to see what minimum number of layers fit the data\n",
    " - the final cell in the notebook creates a resistivity model from the data, by performing an inverse problem\n"
   ]
  },
  {
   "cell_type": "code",
   "execution_count": null,
   "id": "01c8f12f",
   "metadata": {},
   "outputs": [],
   "source": []
  }
 ],
 "metadata": {
  "kernelspec": {
   "display_name": "Python 3 (ipykernel)",
   "language": "python",
   "name": "python3"
  },
  "language_info": {
   "codemirror_mode": {
    "name": "ipython",
    "version": 3
   },
   "file_extension": ".py",
   "mimetype": "text/x-python",
   "name": "python",
   "nbconvert_exporter": "python",
   "pygments_lexer": "ipython3",
   "version": "3.10.12"
  }
 },
 "nbformat": 4,
 "nbformat_minor": 5
}
